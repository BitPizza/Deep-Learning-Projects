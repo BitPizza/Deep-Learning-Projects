{
 "cells": [
  {
   "cell_type": "code",
   "execution_count": 18,
   "metadata": {},
   "outputs": [],
   "source": [
    "import pickle\n",
    "import numpy as np\n",
    "import re\n",
    "from sklearn.feature_extraction.text import CountVectorizer\n",
    "from sklearn.feature_extraction.text import TfidfVectorizer\n",
    "from sklearn.linear_model import SGDClassifier\n",
    "from sklearn.naive_bayes import MultinomialNB\n",
    "from sklearn.ensemble import *\n",
    "from sklearn.cross_validation import train_test_split\n",
    "import tensorflow as tf\n",
    "import model_entropy\n",
    "import model_huber\n",
    "import time\n",
    "import pandas as pd\n",
    "import os\n",
    "import nltk\n",
    "from nltk.corpus import stopwords\n",
    "stopword = list(set(stopwords.words('english')))\n",
    "\n",
    "def clearstring(string):\n",
    "    string = ' '.join(nltk.word_tokenize(string))\n",
    "    string = re.sub('[^A-Za-z\\- ]+', '', string)\n",
    "    string = string.split(' ')\n",
    "    string = filter(None, string)\n",
    "    string = [y.strip() for y in string]\n",
    "    return ' '.join([y for y in string if len(y) > 3 and y.find('nbsp') < 0 and y not in stopword]).lower()"
   ]
  },
  {
   "cell_type": "code",
   "execution_count": 5,
   "metadata": {},
   "outputs": [],
   "source": [
    "with open('svm-model.p', 'rb') as fopen:\n",
    "    svm=pickle.load(fopen)\n",
    "with open('bayes-model.p', 'rb') as fopen:\n",
    "    bayes=pickle.load(fopen)\n",
    "with open('gb-model.p', 'rb') as fopen:\n",
    "    gb=pickle.load(fopen)\n",
    "with open('ada-model.p', 'rb') as fopen:\n",
    "    ada=pickle.load(fopen)\n",
    "with open('stack-model.p', 'rb') as fopen:\n",
    "    clf=pickle.load(fopen)\n",
    "with open('tfidf.p', 'rb') as fopen:\n",
    "    tfidf=pickle.load(fopen)"
   ]
  },
  {
   "cell_type": "code",
   "execution_count": 7,
   "metadata": {},
   "outputs": [],
   "source": [
    "with open('word-list.p', 'rb') as fopen:\n",
    "    vocab = pickle.load(fopen)\n",
    "with open('vector.p', 'rb') as fopen:\n",
    "    vectors = pickle.load(fopen)\n",
    "with open('dataset.p', 'rb') as fopen:\n",
    "    df = pickle.load(fopen)\n",
    "label = ['negative', 'positive']"
   ]
  },
  {
   "cell_type": "code",
   "execution_count": 9,
   "metadata": {},
   "outputs": [
    {
     "name": "stdout",
     "output_type": "stream",
     "text": [
      "INFO:tensorflow:Restoring parameters from /home/husein/space/text-dataset/news/rnn-huber.ckpt\n",
      "INFO:tensorflow:Restoring parameters from /home/husein/space/text-dataset/news/rnn-entropy.ckpt\n"
     ]
    }
   ],
   "source": [
    "tf.reset_default_graph()\n",
    "huber_graph = tf.Graph()\n",
    "with huber_graph.as_default():\n",
    "    huber_model = model_huber.Model(3, 256, 128, 2, 0.0001)\n",
    "    huber_sess = tf.InteractiveSession()\n",
    "    huber_sess.run(tf.global_variables_initializer())\n",
    "    saver = tf.train.Saver(tf.global_variables())\n",
    "    saver.restore(huber_sess, os.getcwd() + \"/rnn-huber.ckpt\")\n",
    "\n",
    "entropy_graph = tf.Graph()\n",
    "with entropy_graph.as_default():\n",
    "    entropy_model = model_entropy.Model(3, 256, 128, 2, 0.0001)\n",
    "    entropy_sess = tf.InteractiveSession()\n",
    "    entropy_sess.run(tf.global_variables_initializer())\n",
    "    saver = tf.train.Saver(tf.global_variables())\n",
    "    saver.restore(entropy_sess, os.getcwd() + \"/rnn-entropy.ckpt\")"
   ]
  },
  {
   "cell_type": "code",
   "execution_count": 39,
   "metadata": {},
   "outputs": [],
   "source": [
    "def classify(text, title=False):\n",
    "    if title:\n",
    "        text = [clearstring(text)]\n",
    "    else:\n",
    "        text = [clearstring(i) for i in list(filter(None, text.split('\\n\\n')))]\n",
    "    if len(text) == 0:\n",
    "        raise Exception('len text is zero')\n",
    "    batch_x = np.zeros((len(text), 40, 128))\n",
    "    for i in range(len(text)):\n",
    "        tokens = text[i].split()[:40]\n",
    "        for no, t in enumerate(tokens[::-1]):\n",
    "            try:\n",
    "                batch_x[i, -1 - no, :] += vectors[vocab.index(t), :]\n",
    "            except Exception as e:\n",
    "                continue\n",
    "    huber_prob = huber_sess.run(tf.nn.softmax(huber_model.logits), feed_dict = {huber_model.X : batch_x})\n",
    "    entropy_prob = entropy_sess.run(tf.nn.softmax(entropy_model.logits), feed_dict = {entropy_model.X : batch_x})\n",
    "    batch_x = tfidf.transform(text)\n",
    "    stack_train = np.hstack([svm.predict_proba(batch_x),\n",
    "                             bayes.predict_proba(batch_x),\n",
    "                             gb.predict_proba(batch_x), \n",
    "                             ada.predict_proba(batch_x),\n",
    "                             huber_prob, entropy_prob])\n",
    "    predict=clf.predict(stack_train)\n",
    "    negative = np.where(predict==0)[0].shape[0]\n",
    "    positive = np.where(predict==1)[0].shape[0]\n",
    "    if title:\n",
    "        return {'negative title':negative, 'positive title':positive}\n",
    "    else:\n",
    "        return {'negative':negative, 'positive':positive}"
   ]
  },
  {
   "cell_type": "code",
   "execution_count": 40,
   "metadata": {},
   "outputs": [],
   "source": [
    "with open('data-crawl','rb') as fopen:\n",
    "    dataset=pickle.load(fopen)"
   ]
  },
  {
   "cell_type": "code",
   "execution_count": 41,
   "metadata": {},
   "outputs": [
    {
     "name": "stdout",
     "output_type": "stream",
     "text": [
      "len text is zero\n",
      "len text is zero\n",
      "len text is zero\n",
      "len text is zero\n",
      "len text is zero\n",
      "len text is zero\n",
      "len text is zero\n",
      "len text is zero\n",
      "len text is zero\n",
      "len text is zero\n",
      "len text is zero\n",
      "len text is zero\n",
      "len text is zero\n",
      "len text is zero\n",
      "len text is zero\n",
      "len text is zero\n",
      "len text is zero\n",
      "len text is zero\n",
      "len text is zero\n",
      "len text is zero\n",
      "len text is zero\n",
      "len text is zero\n"
     ]
    }
   ],
   "source": [
    "for i in reversed(range(len(dataset))):\n",
    "    try:\n",
    "        dataset[i].update(classify(dataset[i]['text'], title=False))\n",
    "        dataset[i].update(classify(dataset[i]['title'], title=True))\n",
    "    except Exception as e:\n",
    "        print(e)\n",
    "        del dataset[i]"
   ]
  },
  {
   "cell_type": "code",
   "execution_count": 80,
   "metadata": {},
   "outputs": [
    {
     "data": {
      "text/html": [
       "<div>\n",
       "<style>\n",
       "    .dataframe thead tr:only-child th {\n",
       "        text-align: right;\n",
       "    }\n",
       "\n",
       "    .dataframe thead th {\n",
       "        text-align: left;\n",
       "    }\n",
       "\n",
       "    .dataframe tbody tr th {\n",
       "        vertical-align: top;\n",
       "    }\n",
       "</style>\n",
       "<table border=\"1\" class=\"dataframe\">\n",
       "  <thead>\n",
       "    <tr style=\"text-align: right;\">\n",
       "      <th></th>\n",
       "      <th>date</th>\n",
       "      <th>negative</th>\n",
       "      <th>positive</th>\n",
       "    </tr>\n",
       "    <tr>\n",
       "      <th>date</th>\n",
       "      <th></th>\n",
       "      <th></th>\n",
       "      <th></th>\n",
       "    </tr>\n",
       "  </thead>\n",
       "  <tbody>\n",
       "    <tr>\n",
       "      <th>2010-01-14</th>\n",
       "      <td>2010-01-14</td>\n",
       "      <td>8</td>\n",
       "      <td>8</td>\n",
       "    </tr>\n",
       "    <tr>\n",
       "      <th>2010-01-26</th>\n",
       "      <td>2010-01-26</td>\n",
       "      <td>17</td>\n",
       "      <td>11</td>\n",
       "    </tr>\n",
       "    <tr>\n",
       "      <th>2010-05-06</th>\n",
       "      <td>2010-05-06</td>\n",
       "      <td>8</td>\n",
       "      <td>11</td>\n",
       "    </tr>\n",
       "    <tr>\n",
       "      <th>2010-07-01</th>\n",
       "      <td>2010-07-01</td>\n",
       "      <td>0</td>\n",
       "      <td>3</td>\n",
       "    </tr>\n",
       "    <tr>\n",
       "      <th>2010-07-03</th>\n",
       "      <td>2010-07-03</td>\n",
       "      <td>16</td>\n",
       "      <td>12</td>\n",
       "    </tr>\n",
       "  </tbody>\n",
       "</table>\n",
       "</div>"
      ],
      "text/plain": [
       "                 date  negative  positive\n",
       "date                                     \n",
       "2010-01-14 2010-01-14         8         8\n",
       "2010-01-26 2010-01-26        17        11\n",
       "2010-05-06 2010-05-06         8        11\n",
       "2010-07-01 2010-07-01         0         3\n",
       "2010-07-03 2010-07-03        16        12"
      ]
     },
     "execution_count": 80,
     "metadata": {},
     "output_type": "execute_result"
    }
   ],
   "source": [
    "import pandas as pd\n",
    "df = pd.DataFrame(dataset)\n",
    "df.date = pd.to_datetime(df.date)\n",
    "df=df.sort_values(by='date')\n",
    "df.negative = df.negative + df['negative title']\n",
    "df.positive = df.positive + df['positive title']\n",
    "df = df.drop(['negative title','positive title','text','title'],axis=1)\n",
    "df=df.groupby(df.date).sum()\n",
    "df['date'] = df.index\n",
    "df = df[['date','negative','positive']]\n",
    "df.head()"
   ]
  },
  {
   "cell_type": "code",
   "execution_count": 77,
   "metadata": {},
   "outputs": [],
   "source": [
    "historical_date=df.date.dt.strftime(date_format='%d-%m-%Y').tolist()"
   ]
  },
  {
   "cell_type": "code",
   "execution_count": 78,
   "metadata": {},
   "outputs": [
    {
     "data": {
      "image/png": "[encoded data removed]",
      "text/plain": [
       "<matplotlib.figure.Figure at 0x7fa8f5955c88>"
      ]
     },
     "metadata": {},
     "output_type": "display_data"
    }
   ],
   "source": [
    "import matplotlib.pyplot as plt\n",
    "import seaborn as sns\n",
    "sns.set()\n",
    "fig = plt.figure(figsize = (20,8))\n",
    "plt.plot(np.arange(df.shape[0]), df.negative.values, label='negative')\n",
    "plt.plot(np.arange(df.shape[0]), df.positive.values, label='positive')\n",
    "plt.legend()\n",
    "plt.xticks(np.arange(df.shape[0])[::200], historical_date[::200])\n",
    "plt.show()"
   ]
  },
  {
   "cell_type": "code",
   "execution_count": 81,
   "metadata": {},
   "outputs": [],
   "source": [
    "df.to_csv('sentiment.csv',index=False)"
   ]
  },
  {
   "cell_type": "code",
   "execution_count": null,
   "metadata": {},
   "outputs": [],
   "source": []
  }
 ],
 "metadata": {
  "kernelspec": {
   "display_name": "Python 3",
   "language": "python",
   "name": "python3"
  },
  "language_info": {
   "codemirror_mode": {
    "name": "ipython",
    "version": 3
   },
   "file_extension": ".py",
   "mimetype": "text/x-python",
   "name": "python",
   "nbconvert_exporter": "python",
   "pygments_lexer": "ipython3",
   "version": "3.5.2"
  }
 },
 "nbformat": 4,
 "nbformat_minor": 2
}
