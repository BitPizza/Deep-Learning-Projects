{
 "cells": [
  {
   "cell_type": "code",
   "execution_count": 1,
   "metadata": {},
   "outputs": [],
   "source": [
    "import pandas as pd\n",
    "import nltk\n",
    "import numpy as np\n",
    "import random\n",
    "import re\n",
    "from nltk.corpus import stopwords\n",
    "stopword = list(set(stopwords.words('english')))\n",
    "\n",
    "def clearstring(string):\n",
    "    string = ' '.join(nltk.word_tokenize(string))\n",
    "    string = re.sub('[^A-Za-z\\- ]+', '', string)\n",
    "    string = string.split(' ')\n",
    "    string = filter(None, string)\n",
    "    string = [y.strip() for y in string]\n",
    "    return ' '.join([y.lower() for y in string if len(y) > 3 and y.find('nbsp') < 0 and y not in stopword])"
   ]
  },
  {
   "cell_type": "code",
   "execution_count": 2,
   "metadata": {},
   "outputs": [
    {
     "data": {
      "text/html": [
       "<div>\n",
       "<style>\n",
       "    .dataframe thead tr:only-child th {\n",
       "        text-align: right;\n",
       "    }\n",
       "\n",
       "    .dataframe thead th {\n",
       "        text-align: left;\n",
       "    }\n",
       "\n",
       "    .dataframe tbody tr th {\n",
       "        vertical-align: top;\n",
       "    }\n",
       "</style>\n",
       "<table border=\"1\" class=\"dataframe\">\n",
       "  <thead>\n",
       "    <tr style=\"text-align: right;\">\n",
       "      <th></th>\n",
       "      <th>positivity</th>\n",
       "      <th>text</th>\n",
       "    </tr>\n",
       "  </thead>\n",
       "  <tbody>\n",
       "    <tr>\n",
       "      <th>0</th>\n",
       "      <td>3.0</td>\n",
       "      <td>NEW YORK -- Yields on most certificates of dep...</td>\n",
       "    </tr>\n",
       "    <tr>\n",
       "      <th>4</th>\n",
       "      <td>3.0</td>\n",
       "      <td>NEW YORK -- Indecision marked the dollar's ton...</td>\n",
       "    </tr>\n",
       "    <tr>\n",
       "      <th>5</th>\n",
       "      <td>3.0</td>\n",
       "      <td>Stocks declined, as investors weighed slower-t...</td>\n",
       "    </tr>\n",
       "    <tr>\n",
       "      <th>9</th>\n",
       "      <td>4.0</td>\n",
       "      <td>The U.S. dollar declined against most major fo...</td>\n",
       "    </tr>\n",
       "    <tr>\n",
       "      <th>12</th>\n",
       "      <td>4.0</td>\n",
       "      <td>Author: James B. Stewart&lt;/br&gt;&lt;/br&gt;The dreaded ...</td>\n",
       "    </tr>\n",
       "  </tbody>\n",
       "</table>\n",
       "</div>"
      ],
      "text/plain": [
       "    positivity                                               text\n",
       "0          3.0  NEW YORK -- Yields on most certificates of dep...\n",
       "4          3.0  NEW YORK -- Indecision marked the dollar's ton...\n",
       "5          3.0  Stocks declined, as investors weighed slower-t...\n",
       "9          4.0  The U.S. dollar declined against most major fo...\n",
       "12         4.0  Author: James B. Stewart</br></br>The dreaded ..."
      ]
     },
     "execution_count": 2,
     "metadata": {},
     "output_type": "execute_result"
    }
   ],
   "source": [
    "df1 = pd.read_csv('Full-Economic-News-DFE-839861.csv',encoding = \"ISO-8859-1\")\n",
    "sentiment1 = df1[['positivity', 'text']]\n",
    "sentiment1 = sentiment1.dropna()\n",
    "sentiment1.head()"
   ]
  },
  {
   "cell_type": "code",
   "execution_count": 3,
   "metadata": {},
   "outputs": [
    {
     "name": "stderr",
     "output_type": "stream",
     "text": [
      "/usr/local/lib/python3.5/dist-packages/pandas/core/indexing.py:179: SettingWithCopyWarning: \n",
      "A value is trying to be set on a copy of a slice from a DataFrame\n",
      "\n",
      "See the caveats in the documentation: http://pandas.pydata.org/pandas-docs/stable/indexing.html#indexing-view-versus-copy\n",
      "  self._setitem_with_indexer(indexer, value)\n"
     ]
    }
   ],
   "source": [
    "sentiment1.positivity.loc[sentiment1.positivity < 5] = 0\n",
    "sentiment1.positivity.loc[sentiment1.positivity >= 5] = 1"
   ]
  },
  {
   "cell_type": "code",
   "execution_count": 4,
   "metadata": {},
   "outputs": [
    {
     "data": {
      "text/plain": [
       "(array([ 0.,  1.]), array([633, 787]))"
      ]
     },
     "execution_count": 4,
     "metadata": {},
     "output_type": "execute_result"
    }
   ],
   "source": [
    "np.unique(sentiment1.positivity, return_counts=True)"
   ]
  },
  {
   "cell_type": "code",
   "execution_count": 5,
   "metadata": {},
   "outputs": [
    {
     "data": {
      "text/html": [
       "<div>\n",
       "<style>\n",
       "    .dataframe thead tr:only-child th {\n",
       "        text-align: right;\n",
       "    }\n",
       "\n",
       "    .dataframe thead th {\n",
       "        text-align: left;\n",
       "    }\n",
       "\n",
       "    .dataframe tbody tr th {\n",
       "        vertical-align: top;\n",
       "    }\n",
       "</style>\n",
       "<table border=\"1\" class=\"dataframe\">\n",
       "  <thead>\n",
       "    <tr style=\"text-align: right;\">\n",
       "      <th></th>\n",
       "      <th>positivity</th>\n",
       "      <th>next_sentence</th>\n",
       "      <th>text</th>\n",
       "    </tr>\n",
       "  </thead>\n",
       "  <tbody>\n",
       "    <tr>\n",
       "      <th>1</th>\n",
       "      <td>6.0</td>\n",
       "      <td>The bond market continued to rally, propelling...</td>\n",
       "      <td>The Nasdaq composite index, home of technology...</td>\n",
       "    </tr>\n",
       "    <tr>\n",
       "      <th>2</th>\n",
       "      <td>5.0</td>\n",
       "      <td>The Nasdaq market was stricken by the collapse...</td>\n",
       "      <td>The bond market continued to rally, propelling...</td>\n",
       "    </tr>\n",
       "    <tr>\n",
       "      <th>3</th>\n",
       "      <td>4.0</td>\n",
       "      <td>uring the marketÛªs split ÛÓ was 4.26 percen...</td>\n",
       "      <td>The Nasdaq market was stricken by the collapse...</td>\n",
       "    </tr>\n",
       "    <tr>\n",
       "      <th>4</th>\n",
       "      <td>3.0</td>\n",
       "      <td>. \"It's a nervous market,Û said Lawrence R. ...</td>\n",
       "      <td>uring the marketÛªs split ÛÓ was 4.26 percen...</td>\n",
       "    </tr>\n",
       "    <tr>\n",
       "      <th>5</th>\n",
       "      <td>4.0</td>\n",
       "      <td>10,000\\tpeople, pulled off a stun-ling economi...</td>\n",
       "      <td>Ore. ÛÓ Fishing and timber are not what they ...</td>\n",
       "    </tr>\n",
       "  </tbody>\n",
       "</table>\n",
       "</div>"
      ],
      "text/plain": [
       "   positivity                                      next_sentence  \\\n",
       "1         6.0  The bond market continued to rally, propelling...   \n",
       "2         5.0  The Nasdaq market was stricken by the collapse...   \n",
       "3         4.0  uring the marketÛªs split ÛÓ was 4.26 percen...   \n",
       "4         3.0  . \"It's a nervous market,Û said Lawrence R. ...   \n",
       "5         4.0  10,000\\tpeople, pulled off a stun-ling economi...   \n",
       "\n",
       "                                                text  \n",
       "1  The Nasdaq composite index, home of technology...  \n",
       "2  The bond market continued to rally, propelling...  \n",
       "3  The Nasdaq market was stricken by the collapse...  \n",
       "4  uring the marketÛªs split ÛÓ was 4.26 percen...  \n",
       "5  Ore. ÛÓ Fishing and timber are not what they ...  "
      ]
     },
     "execution_count": 5,
     "metadata": {},
     "output_type": "execute_result"
    }
   ],
   "source": [
    "df2 = pd.read_csv('us-economic-newspaper.csv',encoding = \"ISO-8859-1\")\n",
    "sentiment2 = df2[['positivity', 'next_sentence','text']]\n",
    "sentiment2 = sentiment2.dropna()\n",
    "sentiment2.head()"
   ]
  },
  {
   "cell_type": "code",
   "execution_count": 6,
   "metadata": {},
   "outputs": [
    {
     "data": {
      "text/plain": [
       "\"The bond market continued to rally, propelling (he normally placid ,' Dow Jones utility average to a gain of 6.01\\tpoints, or 2.5,6 percent, to 240.61 \\x89ÛÓ the best one-day.advance, in percentage terms, in nearly five years. The yield on the 30-year Treasury bond fell to another record low. (Page \\x89Û¢ D18.J\""
      ]
     },
     "execution_count": 6,
     "metadata": {},
     "output_type": "execute_result"
    }
   ],
   "source": [
    "sentiment2.iloc[0, 1]"
   ]
  },
  {
   "cell_type": "code",
   "execution_count": 7,
   "metadata": {},
   "outputs": [
    {
     "data": {
      "text/plain": [
       "'The Nasdaq composite index, home of technology companies large and small, fell 1.7 percent even as the Dow Jones industrial average rose 20.81 points, to 3,342.99.'"
      ]
     },
     "execution_count": 7,
     "metadata": {},
     "output_type": "execute_result"
    }
   ],
   "source": [
    "sentiment2.iloc[0, 2]"
   ]
  },
  {
   "cell_type": "code",
   "execution_count": 8,
   "metadata": {},
   "outputs": [
    {
     "name": "stderr",
     "output_type": "stream",
     "text": [
      "/usr/local/lib/python3.5/dist-packages/pandas/core/indexing.py:179: SettingWithCopyWarning: \n",
      "A value is trying to be set on a copy of a slice from a DataFrame\n",
      "\n",
      "See the caveats in the documentation: http://pandas.pydata.org/pandas-docs/stable/indexing.html#indexing-view-versus-copy\n",
      "  self._setitem_with_indexer(indexer, value)\n"
     ]
    }
   ],
   "source": [
    "sentiment2.positivity.loc[sentiment2.positivity < 5] = 0\n",
    "sentiment2.positivity.loc[sentiment2.positivity >= 5] = 1"
   ]
  },
  {
   "cell_type": "code",
   "execution_count": 9,
   "metadata": {},
   "outputs": [
    {
     "data": {
      "text/html": [
       "<div>\n",
       "<style>\n",
       "    .dataframe thead tr:only-child th {\n",
       "        text-align: right;\n",
       "    }\n",
       "\n",
       "    .dataframe thead th {\n",
       "        text-align: left;\n",
       "    }\n",
       "\n",
       "    .dataframe tbody tr th {\n",
       "        vertical-align: top;\n",
       "    }\n",
       "</style>\n",
       "<table border=\"1\" class=\"dataframe\">\n",
       "  <thead>\n",
       "    <tr style=\"text-align: right;\">\n",
       "      <th></th>\n",
       "      <th>positivity</th>\n",
       "      <th>next_sentence</th>\n",
       "      <th>text</th>\n",
       "    </tr>\n",
       "  </thead>\n",
       "  <tbody>\n",
       "    <tr>\n",
       "      <th>1</th>\n",
       "      <td>1.0</td>\n",
       "      <td>The bond market continued to rally, propelling...</td>\n",
       "      <td>The Nasdaq composite index, home of technology...</td>\n",
       "    </tr>\n",
       "    <tr>\n",
       "      <th>2</th>\n",
       "      <td>1.0</td>\n",
       "      <td>The Nasdaq market was stricken by the collapse...</td>\n",
       "      <td>The bond market continued to rally, propelling...</td>\n",
       "    </tr>\n",
       "    <tr>\n",
       "      <th>3</th>\n",
       "      <td>0.0</td>\n",
       "      <td>uring the marketÛªs split ÛÓ was 4.26 percen...</td>\n",
       "      <td>The Nasdaq market was stricken by the collapse...</td>\n",
       "    </tr>\n",
       "    <tr>\n",
       "      <th>4</th>\n",
       "      <td>0.0</td>\n",
       "      <td>. \"It's a nervous market,Û said Lawrence R. ...</td>\n",
       "      <td>uring the marketÛªs split ÛÓ was 4.26 percen...</td>\n",
       "    </tr>\n",
       "    <tr>\n",
       "      <th>5</th>\n",
       "      <td>0.0</td>\n",
       "      <td>10,000\\tpeople, pulled off a stun-ling economi...</td>\n",
       "      <td>Ore. ÛÓ Fishing and timber are not what they ...</td>\n",
       "    </tr>\n",
       "  </tbody>\n",
       "</table>\n",
       "</div>"
      ],
      "text/plain": [
       "   positivity                                      next_sentence  \\\n",
       "1         1.0  The bond market continued to rally, propelling...   \n",
       "2         1.0  The Nasdaq market was stricken by the collapse...   \n",
       "3         0.0  uring the marketÛªs split ÛÓ was 4.26 percen...   \n",
       "4         0.0  . \"It's a nervous market,Û said Lawrence R. ...   \n",
       "5         0.0  10,000\\tpeople, pulled off a stun-ling economi...   \n",
       "\n",
       "                                                text  \n",
       "1  The Nasdaq composite index, home of technology...  \n",
       "2  The bond market continued to rally, propelling...  \n",
       "3  The Nasdaq market was stricken by the collapse...  \n",
       "4  uring the marketÛªs split ÛÓ was 4.26 percen...  \n",
       "5  Ore. ÛÓ Fishing and timber are not what they ...  "
      ]
     },
     "execution_count": 9,
     "metadata": {},
     "output_type": "execute_result"
    }
   ],
   "source": [
    "sentiment2.head()"
   ]
  },
  {
   "cell_type": "code",
   "execution_count": 10,
   "metadata": {},
   "outputs": [],
   "source": [
    "results, texts = [], []\n",
    "for i in range(sentiment1.shape[0]):\n",
    "    splitted = sentiment1.iloc[i, 1].split('</br></br>')\n",
    "    for k in splitted:\n",
    "        texts.append(clearstring(k))\n",
    "        results.append(sentiment1.iloc[i,0])"
   ]
  },
  {
   "cell_type": "code",
   "execution_count": 11,
   "metadata": {},
   "outputs": [
    {
     "name": "stdout",
     "output_type": "stream",
     "text": [
      "7120\n",
      "7120\n"
     ]
    }
   ],
   "source": [
    "print(len(results))\n",
    "print(len(texts))"
   ]
  },
  {
   "cell_type": "code",
   "execution_count": 12,
   "metadata": {},
   "outputs": [],
   "source": [
    "results2, texts2 = [], []\n",
    "for i in range(sentiment2.shape[0]):\n",
    "    texts2.append(clearstring(sentiment2.iloc[i, 1]))\n",
    "    texts2.append(clearstring(sentiment2.iloc[i, 2]))\n",
    "    results2.append(sentiment2.iloc[i,0])\n",
    "    results2.append(sentiment2.iloc[i,0])"
   ]
  },
  {
   "cell_type": "code",
   "execution_count": 13,
   "metadata": {},
   "outputs": [
    {
     "name": "stdout",
     "output_type": "stream",
     "text": [
      "5798\n",
      "5798\n"
     ]
    }
   ],
   "source": [
    "print(len(results2))\n",
    "print(len(texts2))"
   ]
  },
  {
   "cell_type": "code",
   "execution_count": 14,
   "metadata": {},
   "outputs": [],
   "source": [
    "results = results +results2\n",
    "texts = texts +texts2"
   ]
  },
  {
   "cell_type": "code",
   "execution_count": 15,
   "metadata": {},
   "outputs": [],
   "source": [
    "combined = list(zip(results, texts))\n",
    "random.shuffle(combined)\n",
    "results[:], texts[:] = zip(*combined)"
   ]
  },
  {
   "cell_type": "code",
   "execution_count": 16,
   "metadata": {},
   "outputs": [],
   "source": [
    "import pickle\n",
    "results=np.array([results,texts]).T\n",
    "with open('dataset.p', 'wb') as fopen:\n",
    "    pickle.dump(results,fopen,protocol=2)"
   ]
  },
  {
   "cell_type": "code",
   "execution_count": 17,
   "metadata": {},
   "outputs": [],
   "source": [
    "with open('dataset.p','rb') as fopen:\n",
    "    results=pickle.load(fopen)"
   ]
  }
 ],
 "metadata": {
  "kernelspec": {
   "display_name": "Python 3",
   "language": "python",
   "name": "python3"
  },
  "language_info": {
   "codemirror_mode": {
    "name": "ipython",
    "version": 3
   },
   "file_extension": ".py",
   "mimetype": "text/x-python",
   "name": "python",
   "nbconvert_exporter": "python",
   "pygments_lexer": "ipython3",
   "version": "3.5.2"
  }
 },
 "nbformat": 4,
 "nbformat_minor": 2
}
