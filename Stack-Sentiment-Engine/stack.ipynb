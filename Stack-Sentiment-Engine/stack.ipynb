{
 "cells": [
  {
   "cell_type": "code",
   "execution_count": 25,
   "metadata": {},
   "outputs": [],
   "source": [
    "import pickle\n",
    "from sklearn import metrics\n",
    "import numpy as np\n",
    "import sklearn.datasets\n",
    "import re\n",
    "from sklearn.feature_extraction.text import CountVectorizer\n",
    "from sklearn.feature_extraction.text import TfidfVectorizer\n",
    "from sklearn.linear_model import SGDClassifier\n",
    "from sklearn.naive_bayes import MultinomialNB\n",
    "from sklearn.ensemble import *\n",
    "from sklearn.cross_validation import train_test_split\n",
    "import tensorflow as tf\n",
    "import model_entropy\n",
    "import model_huber\n",
    "import time\n",
    "import pandas as pd\n",
    "import matplotlib.pyplot as plt\n",
    "import seaborn as sns\n",
    "sns.set()\n",
    "import os"
   ]
  },
  {
   "cell_type": "code",
   "execution_count": 2,
   "metadata": {},
   "outputs": [],
   "source": [
    "with open('word-list.p', 'rb') as fopen:\n",
    "    vocab = pickle.load(fopen)\n",
    "with open('vector.p', 'rb') as fopen:\n",
    "    vectors = pickle.load(fopen)\n",
    "with open('dataset.p', 'rb') as fopen:\n",
    "    df = pickle.load(fopen)\n",
    "label = ['negative', 'positive']"
   ]
  },
  {
   "cell_type": "code",
   "execution_count": 3,
   "metadata": {},
   "outputs": [],
   "source": [
    "tfidf = TfidfVectorizer().fit(df[:,1])\n",
    "X = tfidf.transform(df[:,1])"
   ]
  },
  {
   "cell_type": "code",
   "execution_count": 4,
   "metadata": {},
   "outputs": [],
   "source": [
    "from sklearn.cross_validation import train_test_split\n",
    "train_text, test_text,train_X, test_X, train_Y, test_Y = train_test_split(df[:,1],X, df[:, 0].astype('float').astype('int'), test_size = 0.2)"
   ]
  },
  {
   "cell_type": "code",
   "execution_count": 5,
   "metadata": {},
   "outputs": [
    {
     "name": "stdout",
     "output_type": "stream",
     "text": [
      "accuracy validation set:  0.589783281734\n",
      "             precision    recall  f1-score   support\n",
      "\n",
      "   negative       0.58      0.63      0.60      1281\n",
      "   positive       0.60      0.55      0.58      1303\n",
      "\n",
      "avg / total       0.59      0.59      0.59      2584\n",
      "\n"
     ]
    },
    {
     "name": "stderr",
     "output_type": "stream",
     "text": [
      "/usr/local/lib/python3.5/dist-packages/sklearn/linear_model/stochastic_gradient.py:73: DeprecationWarning: n_iter parameter is deprecated in 0.19 and will be removed in 0.21. Use max_iter and tol instead.\n",
      "  DeprecationWarning)\n"
     ]
    }
   ],
   "source": [
    "mod_huber = SGDClassifier(loss = 'modified_huber', \n",
    "                                  penalty = 'l2', alpha = 1e-3, \n",
    "                                  n_iter = 30).fit(train_X, train_Y)\n",
    "predicted = mod_huber.predict(test_X)\n",
    "print('accuracy validation set: ', np.mean(predicted == test_Y))\n",
    "print(metrics.classification_report(test_Y, predicted, target_names = label))"
   ]
  },
  {
   "cell_type": "code",
   "execution_count": 6,
   "metadata": {},
   "outputs": [
    {
     "name": "stdout",
     "output_type": "stream",
     "text": [
      "accuracy validation set:  0.585526315789\n",
      "             precision    recall  f1-score   support\n",
      "\n",
      "   negative       0.58      0.60      0.59      1281\n",
      "   positive       0.59      0.57      0.58      1303\n",
      "\n",
      "avg / total       0.59      0.59      0.59      2584\n",
      "\n"
     ]
    }
   ],
   "source": [
    "bayes_multinomial = MultinomialNB().fit(train_X, train_Y)\n",
    "predicted = bayes_multinomial.predict(test_X)\n",
    "print('accuracy validation set: ', np.mean(predicted == test_Y))\n",
    "print(metrics.classification_report(test_Y, predicted, target_names = label))"
   ]
  },
  {
   "cell_type": "code",
   "execution_count": 7,
   "metadata": {},
   "outputs": [
    {
     "name": "stdout",
     "output_type": "stream",
     "text": [
      "accuracy validation set:  0.582043343653\n",
      "             precision    recall  f1-score   support\n",
      "\n",
      "   negative       0.56      0.71      0.63      1281\n",
      "   positive       0.62      0.46      0.52      1303\n",
      "\n",
      "avg / total       0.59      0.58      0.58      2584\n",
      "\n"
     ]
    }
   ],
   "source": [
    "gb = GradientBoostingClassifier(learning_rate=0.03, n_estimators=200,max_depth=10)\n",
    "gb.fit(train_X, train_Y)\n",
    "predicted = gb.predict(test_X)\n",
    "print('accuracy validation set: ', np.mean(predicted == test_Y))\n",
    "print(metrics.classification_report(test_Y, predicted, target_names = label))"
   ]
  },
  {
   "cell_type": "code",
   "execution_count": 11,
   "metadata": {},
   "outputs": [
    {
     "name": "stdout",
     "output_type": "stream",
     "text": [
      "accuracy validation set:  0.540634674923\n",
      "             precision    recall  f1-score   support\n",
      "\n",
      "   negative       0.52      0.90      0.66      1281\n",
      "   positive       0.65      0.19      0.30      1303\n",
      "\n",
      "avg / total       0.59      0.54      0.48      2584\n",
      "\n"
     ]
    }
   ],
   "source": [
    "ada = AdaBoostClassifier(learning_rate=0.03, n_estimators=200)\n",
    "ada.fit(train_X, train_Y)\n",
    "predicted = ada.predict(test_X)\n",
    "print('accuracy validation set: ', np.mean(predicted == test_Y))\n",
    "print(metrics.classification_report(test_Y, predicted, target_names = label))"
   ]
  },
  {
   "cell_type": "markdown",
   "metadata": {},
   "source": [
    "## global variables for RNN models"
   ]
  },
  {
   "cell_type": "code",
   "execution_count": 8,
   "metadata": {},
   "outputs": [],
   "source": [
    "maxlen = 40\n",
    "num_layers = 3\n",
    "size_layer = 256\n",
    "learning_rate = 0.0001\n",
    "batch = 128\n",
    "dimension = vectors.shape[1]"
   ]
  },
  {
   "cell_type": "code",
   "execution_count": 16,
   "metadata": {},
   "outputs": [],
   "source": [
    "def train_rnn_early_stopping(sess, model, checkpoint_name, saver):\n",
    "    EARLY_STOPPING, CURRENT_CHECKPOINT, CURRENT_ACC, EPOCH = 10, 0, 0, 0\n",
    "    while True:\n",
    "        lasttime = time.time()\n",
    "        if CURRENT_CHECKPOINT == EARLY_STOPPING:\n",
    "            print('break epoch:', EPOCH)\n",
    "            break\n",
    "        train_acc, train_loss, test_acc, test_loss = 0, 0, 0, 0\n",
    "        for i in range(0, (train_text.shape[0] // batch) * batch, batch):\n",
    "            batch_x = np.zeros((batch, maxlen, dimension))\n",
    "            batch_y = np.zeros((batch, len(label)))\n",
    "            for k in range(batch):\n",
    "                tokens = train_text[i + k].split()[:maxlen]\n",
    "                for no, text in enumerate(tokens[::-1]):\n",
    "                    try:\n",
    "                        batch_x[k, -1 - no, :] += vectors[vocab.index(text), :]\n",
    "                    except Exception as e:\n",
    "                        print(e)\n",
    "                        continue\n",
    "                batch_y[k, int(train_Y[i + k])] = 1.0\n",
    "            loss, _ = sess.run([model.cost, model.optimizer], \n",
    "                               feed_dict = {model.X : batch_x, model.Y : batch_y})\n",
    "            train_loss += loss\n",
    "            train_acc += sess.run(model.accuracy, feed_dict = {model.X : batch_x, model.Y : batch_y})\n",
    "        \n",
    "        for i in range(0, (test_text.shape[0] // batch) * batch, batch):\n",
    "            batch_x = np.zeros((batch, maxlen, dimension))\n",
    "            batch_y = np.zeros((batch, len(label)))\n",
    "            for k in range(batch):\n",
    "                tokens = test_text[i + k].split()[:maxlen]\n",
    "                for no, text in enumerate(tokens[::-1]):\n",
    "                    try:\n",
    "                        batch_x[k, -1 - no, :] += vectors[vocab.index(text), :]\n",
    "                    except Exception as e:\n",
    "                        print(e)\n",
    "                        continue\n",
    "                batch_y[k, int(test_Y[i + k])] = 1.0\n",
    "            loss, acc = sess.run([model.cost, model.accuracy], feed_dict = {model.X : batch_x, model.Y : batch_y})\n",
    "            test_loss += loss\n",
    "            test_acc += acc\n",
    "        \n",
    "        train_loss /= (train_X.shape[0] // batch)\n",
    "        train_acc /= (train_X.shape[0] // batch)\n",
    "        test_loss /= (test_X.shape[0] // batch)\n",
    "        test_acc /= (test_X.shape[0] // batch)\n",
    "        if test_acc > CURRENT_ACC:\n",
    "            print('epoch:', EPOCH, ', pass acc:', CURRENT_ACC, ', current acc:', test_acc)\n",
    "            CURRENT_ACC = test_acc\n",
    "            CURRENT_CHECKPOINT = 0\n",
    "            saver.save(sess, os.getcwd() + \"/%s.ckpt\" %(checkpoint_name))\n",
    "        else:\n",
    "            CURRENT_CHECKPOINT += 1\n",
    "        print('time taken:', time.time()-lasttime)\n",
    "        print('epoch:', EPOCH, ', training loss:', train_loss, ', training acc:', train_acc, ', valid loss:', test_loss, ', valid acc:', test_acc)\n",
    "        EPOCH += 1"
   ]
  },
  {
   "cell_type": "markdown",
   "metadata": {},
   "source": [
    "# train our huber models"
   ]
  },
  {
   "cell_type": "code",
   "execution_count": 17,
   "metadata": {},
   "outputs": [
    {
     "name": "stdout",
     "output_type": "stream",
     "text": [
      "'pennies' is not in list\n",
      "epoch: 0 , pass acc: 0 , current acc: 0.506640625\n",
      "time taken: 15.053012371063232\n",
      "epoch: 0 , training loss: 0.145816733688 , training acc: 0.5169921875 , valid loss: 0.135401557386 , valid acc: 0.506640625\n",
      "'pennies' is not in list\n",
      "time taken: 14.91719388961792\n",
      "epoch: 1 , training loss: 0.130096496642 , training acc: 0.5306640625 , valid loss: 0.131461508945 , valid acc: 0.505859375\n",
      "'pennies' is not in list\n",
      "epoch: 2 , pass acc: 0.506640625 , current acc: 0.541015625\n",
      "time taken: 15.011497497558594\n",
      "epoch: 2 , training loss: 0.128083865624 , training acc: 0.53388671875 , valid loss: 0.128711908311 , valid acc: 0.541015625\n",
      "'pennies' is not in list\n",
      "epoch: 3 , pass acc: 0.541015625 , current acc: 0.55078125\n",
      "time taken: 14.991518020629883\n",
      "epoch: 3 , training loss: 0.127831020299 , training acc: 0.55078125 , valid loss: 0.127247028425 , valid acc: 0.55078125\n",
      "'pennies' is not in list\n",
      "time taken: 14.920299291610718\n",
      "epoch: 4 , training loss: 0.126444222126 , training acc: 0.5560546875 , valid loss: 0.12903656289 , valid acc: 0.5265625\n",
      "'pennies' is not in list\n",
      "time taken: 14.925313711166382\n",
      "epoch: 5 , training loss: 0.125327080023 , training acc: 0.5609375 , valid loss: 0.127461456135 , valid acc: 0.544140625\n",
      "'pennies' is not in list\n",
      "time taken: 14.932624101638794\n",
      "epoch: 6 , training loss: 0.124795423541 , training acc: 0.56484375 , valid loss: 0.1284038838 , valid acc: 0.5265625\n",
      "'pennies' is not in list\n",
      "time taken: 14.939527034759521\n",
      "epoch: 7 , training loss: 0.125239405409 , training acc: 0.56572265625 , valid loss: 0.128113961965 , valid acc: 0.5359375\n",
      "'pennies' is not in list\n",
      "time taken: 14.941106081008911\n",
      "epoch: 8 , training loss: 0.124152598716 , training acc: 0.5673828125 , valid loss: 0.127537590265 , valid acc: 0.53671875\n",
      "'pennies' is not in list\n",
      "time taken: 14.939924001693726\n",
      "epoch: 9 , training loss: 0.12393265618 , training acc: 0.57255859375 , valid loss: 0.127106810361 , valid acc: 0.544140625\n",
      "'pennies' is not in list\n",
      "time taken: 14.94698977470398\n",
      "epoch: 10 , training loss: 0.123499229923 , training acc: 0.57001953125 , valid loss: 0.12683149837 , valid acc: 0.533984375\n",
      "'pennies' is not in list\n",
      "epoch: 11 , pass acc: 0.55078125 , current acc: 0.5546875\n",
      "time taken: 15.043190002441406\n",
      "epoch: 11 , training loss: 0.123888494913 , training acc: 0.573828125 , valid loss: 0.127081798762 , valid acc: 0.5546875\n",
      "'pennies' is not in list\n",
      "time taken: 14.95219874382019\n",
      "epoch: 12 , training loss: 0.123233806901 , training acc: 0.57841796875 , valid loss: 0.126823218539 , valid acc: 0.5421875\n",
      "'pennies' is not in list\n",
      "time taken: 14.97074580192566\n",
      "epoch: 13 , training loss: 0.123150482867 , training acc: 0.57822265625 , valid loss: 0.127785343304 , valid acc: 0.541015625\n",
      "'pennies' is not in list\n",
      "time taken: 14.959466218948364\n",
      "epoch: 14 , training loss: 0.122390913125 , training acc: 0.57421875 , valid loss: 0.129381250963 , valid acc: 0.532421875\n",
      "'pennies' is not in list\n",
      "time taken: 14.954354047775269\n",
      "epoch: 15 , training loss: 0.122939317953 , training acc: 0.5806640625 , valid loss: 0.128673649579 , valid acc: 0.541796875\n",
      "'pennies' is not in list\n",
      "time taken: 14.958419799804688\n",
      "epoch: 16 , training loss: 0.122641205788 , training acc: 0.586328125 , valid loss: 0.128913776577 , valid acc: 0.539453125\n",
      "'pennies' is not in list\n",
      "time taken: 14.957765340805054\n",
      "epoch: 17 , training loss: 0.122375576198 , training acc: 0.5830078125 , valid loss: 0.128077277541 , valid acc: 0.539453125\n",
      "'pennies' is not in list\n",
      "time taken: 14.964224815368652\n",
      "epoch: 18 , training loss: 0.122085400391 , training acc: 0.58544921875 , valid loss: 0.128631925955 , valid acc: 0.544921875\n",
      "'pennies' is not in list\n",
      "time taken: 14.961654424667358\n",
      "epoch: 19 , training loss: 0.122132099327 , training acc: 0.5865234375 , valid loss: 0.128092208877 , valid acc: 0.5421875\n",
      "'pennies' is not in list\n",
      "time taken: 14.962383031845093\n",
      "epoch: 20 , training loss: 0.121323044226 , training acc: 0.59208984375 , valid loss: 0.1300128337 , valid acc: 0.528515625\n",
      "'pennies' is not in list\n",
      "time taken: 14.973784685134888\n",
      "epoch: 21 , training loss: 0.121544844937 , training acc: 0.590234375 , valid loss: 0.128818533197 , valid acc: 0.54921875\n",
      "break epoch: 22\n"
     ]
    }
   ],
   "source": [
    "tf.reset_default_graph()\n",
    "sess = tf.InteractiveSession()\n",
    "model = model_huber.Model(num_layers, size_layer, dimension, len(label), learning_rate)\n",
    "sess.run(tf.global_variables_initializer())\n",
    "saver = tf.train.Saver(tf.global_variables())\n",
    "train_rnn_early_stopping(sess, model, 'rnn-huber', saver)"
   ]
  },
  {
   "cell_type": "markdown",
   "metadata": {},
   "source": [
    "# train our entropy model"
   ]
  },
  {
   "cell_type": "code",
   "execution_count": 18,
   "metadata": {},
   "outputs": [
    {
     "name": "stdout",
     "output_type": "stream",
     "text": [
      "'pennies' is not in list\n",
      "epoch: 0 , pass acc: 0 , current acc: 0.51796875\n",
      "time taken: 15.349697828292847\n",
      "epoch: 0 , training loss: 0.69483306706 , training acc: 0.5333984375 , valid loss: 0.695272150636 , valid acc: 0.51796875\n",
      "'pennies' is not in list\n",
      "epoch: 1 , pass acc: 0.51796875 , current acc: 0.537109375\n",
      "time taken: 15.198439359664917\n",
      "epoch: 1 , training loss: 0.689410528541 , training acc: 0.542578125 , valid loss: 0.691067302227 , valid acc: 0.537109375\n",
      "'pennies' is not in list\n",
      "epoch: 2 , pass acc: 0.537109375 , current acc: 0.5390625\n",
      "time taken: 15.190406084060669\n",
      "epoch: 2 , training loss: 0.684594468772 , training acc: 0.5583984375 , valid loss: 0.690793246031 , valid acc: 0.5390625\n",
      "'pennies' is not in list\n",
      "time taken: 15.107272624969482\n",
      "epoch: 3 , training loss: 0.682293519378 , training acc: 0.5607421875 , valid loss: 0.693835741282 , valid acc: 0.530859375\n",
      "'pennies' is not in list\n",
      "epoch: 4 , pass acc: 0.5390625 , current acc: 0.546875\n",
      "time taken: 15.218175411224365\n",
      "epoch: 4 , training loss: 0.681015340239 , training acc: 0.564453125 , valid loss: 0.689407277107 , valid acc: 0.546875\n",
      "'pennies' is not in list\n",
      "time taken: 15.116693258285522\n",
      "epoch: 5 , training loss: 0.679473405331 , training acc: 0.5767578125 , valid loss: 0.690462249517 , valid acc: 0.535546875\n",
      "'pennies' is not in list\n",
      "time taken: 15.135770320892334\n",
      "epoch: 6 , training loss: 0.67696217373 , training acc: 0.57060546875 , valid loss: 0.691700926423 , valid acc: 0.5421875\n",
      "'pennies' is not in list\n",
      "epoch: 7 , pass acc: 0.546875 , current acc: 0.554296875\n",
      "time taken: 15.199444770812988\n",
      "epoch: 7 , training loss: 0.675191287696 , training acc: 0.5779296875 , valid loss: 0.690079280734 , valid acc: 0.554296875\n",
      "'pennies' is not in list\n",
      "time taken: 15.12955904006958\n",
      "epoch: 8 , training loss: 0.673936676234 , training acc: 0.5779296875 , valid loss: 0.69366427362 , valid acc: 0.55\n",
      "'pennies' is not in list\n",
      "time taken: 15.124513387680054\n",
      "epoch: 9 , training loss: 0.671561518312 , training acc: 0.58271484375 , valid loss: 0.691111472249 , valid acc: 0.5390625\n",
      "'pennies' is not in list\n",
      "time taken: 15.12566328048706\n",
      "epoch: 10 , training loss: 0.671417637169 , training acc: 0.5888671875 , valid loss: 0.689123088121 , valid acc: 0.55390625\n",
      "'pennies' is not in list\n",
      "time taken: 15.139175653457642\n",
      "epoch: 11 , training loss: 0.669460006803 , training acc: 0.5873046875 , valid loss: 0.690858477354 , valid acc: 0.548828125\n",
      "'pennies' is not in list\n",
      "time taken: 15.128002166748047\n",
      "epoch: 12 , training loss: 0.667754888535 , training acc: 0.58837890625 , valid loss: 0.695271617174 , valid acc: 0.5375\n",
      "'pennies' is not in list\n",
      "time taken: 15.128545045852661\n",
      "epoch: 13 , training loss: 0.667093306035 , training acc: 0.59404296875 , valid loss: 0.692702978849 , valid acc: 0.546875\n",
      "'pennies' is not in list\n",
      "time taken: 15.129819869995117\n",
      "epoch: 14 , training loss: 0.664815723151 , training acc: 0.59794921875 , valid loss: 0.693358269334 , valid acc: 0.5453125\n",
      "'pennies' is not in list\n",
      "time taken: 15.13270616531372\n",
      "epoch: 15 , training loss: 0.664255589247 , training acc: 0.5966796875 , valid loss: 0.69695341289 , valid acc: 0.5296875\n",
      "'pennies' is not in list\n",
      "time taken: 15.126883745193481\n",
      "epoch: 16 , training loss: 0.664373661578 , training acc: 0.5990234375 , valid loss: 0.696581161022 , valid acc: 0.54609375\n",
      "'pennies' is not in list\n",
      "time taken: 15.13269853591919\n",
      "epoch: 17 , training loss: 0.663585734367 , training acc: 0.60205078125 , valid loss: 0.693007698655 , valid acc: 0.5453125\n",
      "break epoch: 18\n"
     ]
    }
   ],
   "source": [
    "tf.reset_default_graph()\n",
    "sess = tf.InteractiveSession()\n",
    "model = model_entropy.Model(num_layers, size_layer, dimension, len(label), learning_rate)\n",
    "sess.run(tf.global_variables_initializer())\n",
    "saver = tf.train.Saver(tf.global_variables())\n",
    "train_rnn_early_stopping(sess, model, 'rnn-entropy', saver)"
   ]
  },
  {
   "cell_type": "code",
   "execution_count": 19,
   "metadata": {},
   "outputs": [],
   "source": [
    "validation_batch = np.zeros((test_text.shape[0], maxlen, dimension))\n",
    "for i in range(test_text.shape[0]):\n",
    "    tokens = test_text[i].split()[:maxlen]\n",
    "    for no, text in enumerate(tokens[::-1]):\n",
    "        try:\n",
    "            validation_batch[i, -1 - no, :] += vectors[vocab.index(text), :]\n",
    "        except Exception as e:\n",
    "            print(e)\n",
    "            continue"
   ]
  },
  {
   "cell_type": "code",
   "execution_count": 27,
   "metadata": {},
   "outputs": [
    {
     "name": "stdout",
     "output_type": "stream",
     "text": [
      "'pennies' is not in list\n"
     ]
    }
   ],
   "source": [
    "train_batch = np.zeros((train_text.shape[0], maxlen, dimension))\n",
    "for i in range(train_text.shape[0]):\n",
    "    tokens = train_text[i].split()[:maxlen]\n",
    "    for no, text in enumerate(tokens[::-1]):\n",
    "        try:\n",
    "            train_batch[i, -1 - no, :] += vectors[vocab.index(text), :]\n",
    "        except Exception as e:\n",
    "            print(e)\n",
    "            continue"
   ]
  },
  {
   "cell_type": "code",
   "execution_count": 20,
   "metadata": {},
   "outputs": [
    {
     "name": "stdout",
     "output_type": "stream",
     "text": [
      "INFO:tensorflow:Restoring parameters from /home/husein/space/text-dataset/news/rnn-huber.ckpt\n",
      "INFO:tensorflow:Restoring parameters from /home/husein/space/text-dataset/news/rnn-entropy.ckpt\n"
     ]
    }
   ],
   "source": [
    "tf.reset_default_graph()\n",
    "huber_graph = tf.Graph()\n",
    "with huber_graph.as_default():\n",
    "    huber_model = model_huber.Model(num_layers, size_layer, dimension, len(label), learning_rate)\n",
    "    huber_sess = tf.InteractiveSession()\n",
    "    huber_sess.run(tf.global_variables_initializer())\n",
    "    saver = tf.train.Saver(tf.global_variables())\n",
    "    saver.restore(huber_sess, os.getcwd() + \"/rnn-huber.ckpt\")\n",
    "\n",
    "entropy_graph = tf.Graph()\n",
    "with entropy_graph.as_default():\n",
    "    entropy_model = model_entropy.Model(num_layers, size_layer, dimension, len(label), learning_rate)\n",
    "    entropy_sess = tf.InteractiveSession()\n",
    "    entropy_sess.run(tf.global_variables_initializer())\n",
    "    saver = tf.train.Saver(tf.global_variables())\n",
    "    saver.restore(entropy_sess, os.getcwd() + \"/rnn-entropy.ckpt\")"
   ]
  },
  {
   "cell_type": "code",
   "execution_count": 23,
   "metadata": {},
   "outputs": [
    {
     "name": "stdout",
     "output_type": "stream",
     "text": [
      "accuracy validation set:  0.53560371517\n",
      "             precision    recall  f1-score   support\n",
      "\n",
      "   negative       0.54      0.42      0.48      1281\n",
      "   positive       0.53      0.64      0.58      1303\n",
      "\n",
      "avg / total       0.54      0.54      0.53      2584\n",
      "\n"
     ]
    }
   ],
   "source": [
    "huber_prob = huber_sess.run(tf.nn.softmax(huber_model.logits), feed_dict = {huber_model.X : validation_batch})\n",
    "predicted = np.argmax(huber_prob, axis=1)\n",
    "print('accuracy validation set: ', np.mean(predicted == test_Y))\n",
    "print(metrics.classification_report(test_Y, predicted, target_names = label))"
   ]
  },
  {
   "cell_type": "code",
   "execution_count": 24,
   "metadata": {},
   "outputs": [
    {
     "name": "stdout",
     "output_type": "stream",
     "text": [
      "accuracy validation set:  0.553405572755\n",
      "             precision    recall  f1-score   support\n",
      "\n",
      "   negative       0.56      0.43      0.49      1281\n",
      "   positive       0.55      0.67      0.60      1303\n",
      "\n",
      "avg / total       0.56      0.55      0.55      2584\n",
      "\n"
     ]
    }
   ],
   "source": [
    "entropy_prob = entropy_sess.run(tf.nn.softmax(entropy_model.logits), feed_dict = {entropy_model.X : validation_batch})\n",
    "predicted = np.argmax(entropy_prob, axis=1)\n",
    "print('accuracy validation set: ', np.mean(predicted == test_Y))\n",
    "print(metrics.classification_report(test_Y, predicted, target_names = label))"
   ]
  },
  {
   "cell_type": "code",
   "execution_count": 28,
   "metadata": {},
   "outputs": [],
   "source": [
    "huber_prob_train = huber_sess.run(tf.nn.softmax(huber_model.logits), feed_dict = {huber_model.X : train_batch})\n",
    "entropy_prob_train = entropy_sess.run(tf.nn.softmax(entropy_model.logits), feed_dict = {entropy_model.X : train_batch})"
   ]
  },
  {
   "cell_type": "code",
   "execution_count": 41,
   "metadata": {},
   "outputs": [
    {
     "data": {
      "image/png": "[encoded data removed]",
      "text/plain": [
       "<matplotlib.figure.Figure at 0x7f5984333710>"
      ]
     },
     "metadata": {},
     "output_type": "display_data"
    }
   ],
   "source": [
    "plt.figure(figsize=(15,10))\n",
    "stack_train = np.vstack([mod_huber.predict(train_X),bayes_multinomial.predict(train_X),gb.predict(train_X), ada.predict(train_X),np.argmax(huber_prob_train, axis=1), np.argmax(entropy_prob_train, axis=1),train_Y]).T\n",
    "corr_df = pd.DataFrame(stack_train, columns=['svm','bayes','gb','ada', 'rnn-huber','rnn-entropy','results'])\n",
    "sns.heatmap(corr_df.corr(), annot=True)\n",
    "plt.show()"
   ]
  },
  {
   "cell_type": "code",
   "execution_count": 42,
   "metadata": {},
   "outputs": [
    {
     "data": {
      "image/png": "[encoded data removed]",
      "text/plain": [
       "<matplotlib.figure.Figure at 0x7f598419ff98>"
      ]
     },
     "metadata": {},
     "output_type": "display_data"
    }
   ],
   "source": [
    "plt.figure(figsize=(15,10))\n",
    "stack_test = np.vstack([mod_huber.predict(test_X),bayes_multinomial.predict(test_X),gb.predict(test_X), ada.predict(test_X),np.argmax(huber_prob, axis=1), np.argmax(entropy_prob, axis=1),test_Y]).T\n",
    "corr_df = pd.DataFrame(stack_test, columns=['svm','bayes','gb','ada', 'rnn-huber','rnn-entropy','results'])\n",
    "sns.heatmap(corr_df.corr(), annot=True)\n",
    "plt.show()"
   ]
  },
  {
   "cell_type": "code",
   "execution_count": 51,
   "metadata": {},
   "outputs": [],
   "source": [
    "stack_train = np.hstack([mod_huber.predict_proba(train_X),bayes_multinomial.predict_proba(train_X),gb.predict_proba(train_X), ada.predict_proba(train_X),huber_prob_train, entropy_prob_train])\n",
    "stack_test = np.hstack([mod_huber.predict_proba(test_X),bayes_multinomial.predict_proba(test_X),gb.predict_proba(test_X), ada.predict_proba(test_X),huber_prob, entropy_prob])"
   ]
  },
  {
   "cell_type": "code",
   "execution_count": 52,
   "metadata": {},
   "outputs": [
    {
     "name": "stdout",
     "output_type": "stream",
     "text": [
      "(10334, 12)\n",
      "(2584, 12)\n"
     ]
    }
   ],
   "source": [
    "print(stack_train.shape)\n",
    "print(stack_test.shape)"
   ]
  },
  {
   "cell_type": "code",
   "execution_count": 59,
   "metadata": {},
   "outputs": [],
   "source": [
    "from bayes_opt import BayesianOptimization\n",
    "def generate_stack(max_depth, gamma, min_child_weight, scale_pos_weight, reg_alpha, reg_lambda):\n",
    "    global accbest\n",
    "    param = {\n",
    "        'max_depth' : int(np.around(max_depth)),\n",
    "        'objective': 'binary:logistic',\n",
    "        'learning_rate': 0.003333,\n",
    "        'gamma' : gamma,\n",
    "        'min_child_weight' : min_child_weight,\n",
    "        'scale_pos_weight': scale_pos_weight,\n",
    "        'reg_alpha' : reg_alpha,\n",
    "        'reg_lambda':reg_lambda,\n",
    "        'n_estimators': 300\n",
    "    }\n",
    "    clf = xgb.XGBClassifier(**param)\n",
    "    clf.fit(stack_train,train_Y)\n",
    "    predicted = clf.predict(stack_test)\n",
    "    valid_acc = np.mean(predicted == test_Y)\n",
    "    print(\"stop after 300 iteration with valid acc %f\" % (valid_acc))\n",
    "    if (valid_acc > accbest):\n",
    "        costbest = valid_acc\n",
    "    return valid_acc"
   ]
  },
  {
   "cell_type": "code",
   "execution_count": 60,
   "metadata": {},
   "outputs": [
    {
     "name": "stdout",
     "output_type": "stream",
     "text": [
      "\u001b[31mInitialization\u001b[0m\n",
      "\u001b[94m------------------------------------------------------------------------------------------------------------------------------\u001b[0m\n",
      " Step |   Time |      Value |     gamma |   max_depth |   min_child_weight |   reg_alpha |   reg_lambda |   scale_pos_weight | \n",
      "stop after 300 iteration with valid acc 0.581269\n",
      "    1 | 00m03s | \u001b[35m   0.58127\u001b[0m | \u001b[32m   1.9359\u001b[0m | \u001b[32m     4.7718\u001b[0m | \u001b[32m            0.1718\u001b[0m | \u001b[32m     8.7385\u001b[0m | \u001b[32m      2.8803\u001b[0m | \u001b[32m            3.2769\u001b[0m | \n",
      "stop after 300 iteration with valid acc 0.591331\n",
      "    2 | 00m02s | \u001b[35m   0.59133\u001b[0m | \u001b[32m   2.9037\u001b[0m | \u001b[32m     5.4831\u001b[0m | \u001b[32m            3.5124\u001b[0m | \u001b[32m     8.5938\u001b[0m | \u001b[32m      7.7208\u001b[0m | \u001b[32m            1.0419\u001b[0m | \n",
      "stop after 300 iteration with valid acc 0.586687\n",
      "    3 | 00m03s |    0.58669 |    1.3036 |      6.2033 |             3.5349 |      7.3203 |       7.1570 |             2.0266 | \n",
      "stop after 300 iteration with valid acc 0.585139\n",
      "    4 | 00m02s |    0.58514 |    3.9706 |      3.9949 |             0.7985 |      6.4895 |       1.0203 |             4.2944 | \n",
      "stop after 300 iteration with valid acc 0.586687\n",
      "    5 | 00m01s |    0.58669 |    2.9439 |      2.4002 |             3.3413 |      4.3111 |       5.8824 |             3.8580 | \n",
      "stop after 300 iteration with valid acc 0.581656\n",
      "    6 | 00m03s |    0.58166 |    1.4835 |      6.9212 |             1.4405 |      8.9403 |       2.1847 |             1.8215 | \n",
      "stop after 300 iteration with valid acc 0.593653\n",
      "    7 | 00m01s | \u001b[35m   0.59365\u001b[0m | \u001b[32m   1.0470\u001b[0m | \u001b[32m     2.1182\u001b[0m | \u001b[32m            2.2383\u001b[0m | \u001b[32m     1.3868\u001b[0m | \u001b[32m      5.6976\u001b[0m | \u001b[32m            2.0775\u001b[0m | \n",
      "stop after 300 iteration with valid acc 0.583978\n",
      "    8 | 00m02s |    0.58398 |    0.3119 |      3.8675 |             3.3892 |      0.6428 |       7.4300 |             3.0406 | \n",
      "stop after 300 iteration with valid acc 0.580495\n",
      "    9 | 00m03s |    0.58050 |    2.4782 |      5.7621 |             0.8746 |      8.2840 |       6.2272 |             3.6683 | \n",
      "stop after 300 iteration with valid acc 0.585526\n",
      "   10 | 00m02s |    0.58553 |    1.5194 |      4.2720 |             0.9465 |      2.3259 |       3.9490 |             3.1164 | \n",
      "\u001b[31mBayesian Optimization\u001b[0m\n",
      "\u001b[94m------------------------------------------------------------------------------------------------------------------------------\u001b[0m\n",
      " Step |   Time |      Value |     gamma |   max_depth |   min_child_weight |   reg_alpha |   reg_lambda |   scale_pos_weight | \n",
      "stop after 300 iteration with valid acc 0.589009\n"
     ]
    },
    {
     "name": "stderr",
     "output_type": "stream",
     "text": [
      "/usr/local/lib/python3.5/dist-packages/sklearn/gaussian_process/gpr.py:457: UserWarning: fmin_l_bfgs_b terminated abnormally with the  state: {'nit': 6, 'warnflag': 2, 'funcalls': 60, 'grad': array([ -1.78689281e-05]), 'task': b'ABNORMAL_TERMINATION_IN_LNSRCH'}\n",
      "  \" state: %s\" % convergence_dict)\n"
     ]
    },
    {
     "name": "stdout",
     "output_type": "stream",
     "text": [
      "   11 | 00m16s |    0.58901 |    4.0663 |      2.0991 |             2.6854 |      0.0489 |       1.0439 |             1.0507 | \n",
      "stop after 300 iteration with valid acc 0.590170\n"
     ]
    },
    {
     "name": "stderr",
     "output_type": "stream",
     "text": [
      "/usr/local/lib/python3.5/dist-packages/sklearn/gaussian_process/gpr.py:457: UserWarning: fmin_l_bfgs_b terminated abnormally with the  state: {'nit': 4, 'warnflag': 2, 'funcalls': 47, 'grad': array([  3.25331740e-05]), 'task': b'ABNORMAL_TERMINATION_IN_LNSRCH'}\n",
      "  \" state: %s\" % convergence_dict)\n"
     ]
    },
    {
     "name": "stdout",
     "output_type": "stream",
     "text": [
      "   12 | 00m08s |    0.59017 |    4.1856 |      2.0923 |             0.1342 |      4.6701 |       9.6071 |             1.0049 | \n",
      "stop after 300 iteration with valid acc 0.590170\n"
     ]
    },
    {
     "name": "stderr",
     "output_type": "stream",
     "text": [
      "/usr/local/lib/python3.5/dist-packages/sklearn/gaussian_process/gpr.py:457: UserWarning: fmin_l_bfgs_b terminated abnormally with the  state: {'nit': 4, 'warnflag': 2, 'funcalls': 47, 'grad': array([  1.40612592e-05]), 'task': b'ABNORMAL_TERMINATION_IN_LNSRCH'}\n",
      "  \" state: %s\" % convergence_dict)\n"
     ]
    },
    {
     "name": "stdout",
     "output_type": "stream",
     "text": [
      "   13 | 00m08s |    0.59017 |    0.1890 |      2.2737 |             4.9793 |      8.4555 |       7.7316 |             1.0029 | \n",
      "stop after 300 iteration with valid acc 0.590170\n"
     ]
    },
    {
     "name": "stderr",
     "output_type": "stream",
     "text": [
      "/usr/local/lib/python3.5/dist-packages/sklearn/gaussian_process/gpr.py:457: UserWarning: fmin_l_bfgs_b terminated abnormally with the  state: {'nit': 5, 'warnflag': 2, 'funcalls': 59, 'grad': array([ -1.91359698e-05]), 'task': b'ABNORMAL_TERMINATION_IN_LNSRCH'}\n",
      "  \" state: %s\" % convergence_dict)\n"
     ]
    },
    {
     "name": "stdout",
     "output_type": "stream",
     "text": [
      "   14 | 00m08s |    0.59017 |    0.7780 |      2.1617 |             2.1297 |      3.2254 |       5.8038 |             1.0051 | \n",
      "stop after 300 iteration with valid acc 0.590944\n"
     ]
    },
    {
     "name": "stderr",
     "output_type": "stream",
     "text": [
      "/usr/local/lib/python3.5/dist-packages/sklearn/gaussian_process/gpr.py:457: UserWarning: fmin_l_bfgs_b terminated abnormally with the  state: {'nit': 4, 'warnflag': 2, 'funcalls': 49, 'grad': array([ -5.34537644e-05]), 'task': b'ABNORMAL_TERMINATION_IN_LNSRCH'}\n",
      "  \" state: %s\" % convergence_dict)\n",
      "/usr/local/lib/python3.5/dist-packages/sklearn/gaussian_process/gpr.py:457: UserWarning: fmin_l_bfgs_b terminated abnormally with the  state: {'nit': 4, 'warnflag': 2, 'funcalls': 49, 'grad': array([-0.00010638]), 'task': b'ABNORMAL_TERMINATION_IN_LNSRCH'}\n",
      "  \" state: %s\" % convergence_dict)\n"
     ]
    },
    {
     "name": "stdout",
     "output_type": "stream",
     "text": [
      "   15 | 00m10s |    0.59094 |    4.8256 |      5.9923 |             4.9922 |      9.4213 |       9.6821 |             1.0115 | \n",
      "stop after 300 iteration with valid acc 0.590170\n"
     ]
    },
    {
     "name": "stderr",
     "output_type": "stream",
     "text": [
      "/usr/local/lib/python3.5/dist-packages/sklearn/gaussian_process/gpr.py:457: UserWarning: fmin_l_bfgs_b terminated abnormally with the  state: {'nit': 2, 'warnflag': 2, 'funcalls': 44, 'grad': array([  9.81929195e-05]), 'task': b'ABNORMAL_TERMINATION_IN_LNSRCH'}\n",
      "  \" state: %s\" % convergence_dict)\n"
     ]
    },
    {
     "name": "stdout",
     "output_type": "stream",
     "text": [
      "   16 | 00m08s |    0.59017 |    4.8148 |      2.2251 |             0.4008 |      0.0410 |       6.3909 |             1.1895 | \n",
      "stop after 300 iteration with valid acc 0.596362\n",
      "   17 | 00m06s | \u001b[35m   0.59636\u001b[0m | \u001b[32m   0.1791\u001b[0m | \u001b[32m     2.0024\u001b[0m | \u001b[32m            0.2643\u001b[0m | \u001b[32m     0.0194\u001b[0m | \u001b[32m      3.3835\u001b[0m | \u001b[32m            1.6203\u001b[0m | \n",
      "stop after 300 iteration with valid acc 0.594040\n",
      "   18 | 00m06s |    0.59404 |    4.8396 |      2.4078 |             4.0654 |      9.8856 |       1.2351 |             1.8578 | \n",
      "stop after 300 iteration with valid acc 0.583978\n"
     ]
    },
    {
     "name": "stderr",
     "output_type": "stream",
     "text": [
      "/usr/local/lib/python3.5/dist-packages/sklearn/gaussian_process/gpr.py:457: UserWarning: fmin_l_bfgs_b terminated abnormally with the  state: {'nit': 5, 'warnflag': 2, 'funcalls': 52, 'grad': array([  3.96146188e-05]), 'task': b'ABNORMAL_TERMINATION_IN_LNSRCH'}\n",
      "  \" state: %s\" % convergence_dict)\n"
     ]
    },
    {
     "name": "stdout",
     "output_type": "stream",
     "text": [
      "   19 | 00m06s |    0.58398 |    0.5553 |      2.0832 |             4.2479 |      0.1144 |       1.1992 |             4.2451 | \n",
      "stop after 300 iteration with valid acc 0.594814\n",
      "   20 | 00m06s |    0.59481 |    4.4482 |      2.5628 |             4.8709 |      9.9928 |       6.6121 |             1.1989 | \n",
      "stop after 300 iteration with valid acc 0.592492\n",
      "   21 | 00m05s |    0.59249 |    0.1946 |      2.0007 |             0.1186 |      0.6922 |       6.8881 |             3.1486 | \n",
      "stop after 300 iteration with valid acc 0.589783\n"
     ]
    },
    {
     "name": "stderr",
     "output_type": "stream",
     "text": [
      "/usr/local/lib/python3.5/dist-packages/sklearn/gaussian_process/gpr.py:457: UserWarning: fmin_l_bfgs_b terminated abnormally with the  state: {'nit': 4, 'warnflag': 2, 'funcalls': 50, 'grad': array([  7.82220327e-05]), 'task': b'ABNORMAL_TERMINATION_IN_LNSRCH'}\n",
      "  \" state: %s\" % convergence_dict)\n"
     ]
    },
    {
     "name": "stdout",
     "output_type": "stream",
     "text": [
      "   22 | 00m06s |    0.58978 |    3.8891 |      2.1190 |             3.6835 |      9.7017 |       9.7613 |             1.2261 | \n",
      "stop after 300 iteration with valid acc 0.589783\n",
      "   23 | 00m07s |    0.58978 |    4.4468 |      4.8265 |             4.9951 |      9.9917 |       4.0380 |             1.0003 | \n",
      "stop after 300 iteration with valid acc 0.594040\n"
     ]
    },
    {
     "name": "stderr",
     "output_type": "stream",
     "text": [
      "/usr/local/lib/python3.5/dist-packages/sklearn/gaussian_process/gpr.py:457: UserWarning: fmin_l_bfgs_b terminated abnormally with the  state: {'nit': 5, 'warnflag': 2, 'funcalls': 54, 'grad': array([ 0.00032187]), 'task': b'ABNORMAL_TERMINATION_IN_LNSRCH'}\n",
      "  \" state: %s\" % convergence_dict)\n"
     ]
    },
    {
     "name": "stdout",
     "output_type": "stream",
     "text": [
      "   24 | 00m05s |    0.59404 |    4.9632 |      2.0857 |             1.4925 |      9.6434 |       2.1693 |             1.3204 | \n",
      "stop after 300 iteration with valid acc 0.590170\n",
      "   25 | 00m06s |    0.59017 |    0.4968 |      2.0292 |             0.2447 |      0.9228 |       2.1165 |             1.0002 | \n",
      "stop after 300 iteration with valid acc 0.589009\n"
     ]
    },
    {
     "name": "stderr",
     "output_type": "stream",
     "text": [
      "/usr/local/lib/python3.5/dist-packages/sklearn/gaussian_process/gpr.py:457: UserWarning: fmin_l_bfgs_b terminated abnormally with the  state: {'nit': 6, 'warnflag': 2, 'funcalls': 52, 'grad': array([  2.48285646e-05]), 'task': b'ABNORMAL_TERMINATION_IN_LNSRCH'}\n",
      "  \" state: %s\" % convergence_dict)\n"
     ]
    },
    {
     "name": "stdout",
     "output_type": "stream",
     "text": [
      "   26 | 00m08s |    0.58901 |    0.4305 |      2.1241 |             1.4067 |      0.5735 |       5.5566 |             1.0468 | \n",
      "stop after 300 iteration with valid acc 0.584752\n"
     ]
    },
    {
     "name": "stderr",
     "output_type": "stream",
     "text": [
      "/usr/local/lib/python3.5/dist-packages/sklearn/gaussian_process/gpr.py:457: UserWarning: fmin_l_bfgs_b terminated abnormally with the  state: {'nit': 5, 'warnflag': 2, 'funcalls': 54, 'grad': array([  5.79937951e-05]), 'task': b'ABNORMAL_TERMINATION_IN_LNSRCH'}\n",
      "  \" state: %s\" % convergence_dict)\n"
     ]
    },
    {
     "name": "stdout",
     "output_type": "stream",
     "text": [
      "   27 | 00m09s |    0.58475 |    0.6039 |      2.1835 |             0.2808 |      0.0955 |       2.9897 |             4.1577 | \n",
      "stop after 300 iteration with valid acc 0.594040\n",
      "   28 | 00m09s |    0.59404 |    4.8538 |      2.0279 |             4.8653 |      6.1488 |       4.4801 |             1.3616 | \n",
      "stop after 300 iteration with valid acc 0.590557\n",
      "   29 | 00m09s |    0.59056 |    0.2184 |      2.4664 |             4.7846 |      9.0458 |       1.0078 |             1.1453 | \n",
      "stop after 300 iteration with valid acc 0.594040\n",
      "   30 | 00m09s |    0.59404 |    4.9786 |      2.2079 |             4.5975 |      4.7948 |       1.2136 |             1.3788 | \n"
     ]
    }
   ],
   "source": [
    "accbest = 0.0\n",
    "stack_bayesian = BayesianOptimization(generate_stack, {'max_depth': (2, 6.99),'gamma': (0.1, 5),'min_child_weight': (0, 5),'scale_pos_weight': (1, 5),'reg_alpha': (0, 10),'reg_lambda': (1, 10)})\n",
    "stack_bayesian.maximize(init_points = 10, n_iter = 20, acq = 'ei', xi = 0.0)"
   ]
  },
  {
   "cell_type": "code",
   "execution_count": 61,
   "metadata": {},
   "outputs": [
    {
     "name": "stdout",
     "output_type": "stream",
     "text": [
      "Maximum accuracy value: 0.596362\n",
      "Best parameters:  {'max_depth': 2.0024276362131621, 'gamma': 0.17908412443987298, 'reg_lambda': 3.3834524892572224, 'reg_alpha': 0.019426115025547031, 'min_child_weight': 0.26425441256794802, 'scale_pos_weight': 1.6203111511728578}\n"
     ]
    }
   ],
   "source": [
    "print('Maximum accuracy value: %f' % stack_bayesian.res['max']['max_val'])\n",
    "print('Best parameters: ', stack_bayesian.res['max']['max_params'])"
   ]
  },
  {
   "cell_type": "code",
   "execution_count": 62,
   "metadata": {},
   "outputs": [
    {
     "name": "stdout",
     "output_type": "stream",
     "text": [
      "[0]\tvalidation_0-logloss:0.692681\n",
      "Will train until validation_0-logloss hasn't improved in 100 rounds.\n",
      "[1]\tvalidation_0-logloss:0.692223\n",
      "[2]\tvalidation_0-logloss:0.691773\n",
      "[3]\tvalidation_0-logloss:0.69133\n",
      "[4]\tvalidation_0-logloss:0.690886\n",
      "[5]\tvalidation_0-logloss:0.690458\n",
      "[6]\tvalidation_0-logloss:0.690029\n",
      "[7]\tvalidation_0-logloss:0.689609\n",
      "[8]\tvalidation_0-logloss:0.689193\n",
      "[9]\tvalidation_0-logloss:0.68876\n",
      "[10]\tvalidation_0-logloss:0.688367\n",
      "[11]\tvalidation_0-logloss:0.687965\n",
      "[12]\tvalidation_0-logloss:0.687559\n",
      "[13]\tvalidation_0-logloss:0.687179\n",
      "[14]\tvalidation_0-logloss:0.686786\n",
      "[15]\tvalidation_0-logloss:0.68641\n",
      "[16]\tvalidation_0-logloss:0.68603\n",
      "[17]\tvalidation_0-logloss:0.685676\n",
      "[18]\tvalidation_0-logloss:0.685309\n",
      "[19]\tvalidation_0-logloss:0.684959\n",
      "[20]\tvalidation_0-logloss:0.684604\n",
      "[21]\tvalidation_0-logloss:0.684266\n",
      "[22]\tvalidation_0-logloss:0.683916\n",
      "[23]\tvalidation_0-logloss:0.683607\n",
      "[24]\tvalidation_0-logloss:0.683269\n",
      "[25]\tvalidation_0-logloss:0.682963\n",
      "[26]\tvalidation_0-logloss:0.682636\n",
      "[27]\tvalidation_0-logloss:0.682351\n",
      "[28]\tvalidation_0-logloss:0.682055\n",
      "[29]\tvalidation_0-logloss:0.681753\n",
      "[30]\tvalidation_0-logloss:0.681478\n",
      "[31]\tvalidation_0-logloss:0.681188\n",
      "[32]\tvalidation_0-logloss:0.680914\n",
      "[33]\tvalidation_0-logloss:0.68065\n",
      "[34]\tvalidation_0-logloss:0.680396\n",
      "[35]\tvalidation_0-logloss:0.680123\n",
      "[36]\tvalidation_0-logloss:0.67986\n",
      "[37]\tvalidation_0-logloss:0.679597\n",
      "[38]\tvalidation_0-logloss:0.679364\n",
      "[39]\tvalidation_0-logloss:0.679112\n",
      "[40]\tvalidation_0-logloss:0.678888\n",
      "[41]\tvalidation_0-logloss:0.678647\n",
      "[42]\tvalidation_0-logloss:0.678427\n",
      "[43]\tvalidation_0-logloss:0.678201\n",
      "[44]\tvalidation_0-logloss:0.677974\n",
      "[45]\tvalidation_0-logloss:0.677753\n",
      "[46]\tvalidation_0-logloss:0.677561\n",
      "[47]\tvalidation_0-logloss:0.67735\n",
      "[48]\tvalidation_0-logloss:0.677166\n",
      "[49]\tvalidation_0-logloss:0.676988\n",
      "[50]\tvalidation_0-logloss:0.676791\n",
      "[51]\tvalidation_0-logloss:0.676614\n",
      "[52]\tvalidation_0-logloss:0.676426\n",
      "[53]\tvalidation_0-logloss:0.676277\n",
      "[54]\tvalidation_0-logloss:0.676093\n",
      "[55]\tvalidation_0-logloss:0.675919\n",
      "[56]\tvalidation_0-logloss:0.675783\n",
      "[57]\tvalidation_0-logloss:0.675653\n",
      "[58]\tvalidation_0-logloss:0.675492\n",
      "[59]\tvalidation_0-logloss:0.67537\n",
      "[60]\tvalidation_0-logloss:0.675252\n",
      "[61]\tvalidation_0-logloss:0.675104\n",
      "[62]\tvalidation_0-logloss:0.674977\n",
      "[63]\tvalidation_0-logloss:0.674872\n",
      "[64]\tvalidation_0-logloss:0.674752\n",
      "[65]\tvalidation_0-logloss:0.674621\n",
      "[66]\tvalidation_0-logloss:0.674509\n",
      "[67]\tvalidation_0-logloss:0.674421\n",
      "[68]\tvalidation_0-logloss:0.674302\n",
      "[69]\tvalidation_0-logloss:0.674205\n",
      "[70]\tvalidation_0-logloss:0.674113\n",
      "[71]\tvalidation_0-logloss:0.674005\n",
      "[72]\tvalidation_0-logloss:0.673921\n",
      "[73]\tvalidation_0-logloss:0.673837\n",
      "[74]\tvalidation_0-logloss:0.673752\n",
      "[75]\tvalidation_0-logloss:0.673659\n",
      "[76]\tvalidation_0-logloss:0.67358\n",
      "[77]\tvalidation_0-logloss:0.673469\n",
      "[78]\tvalidation_0-logloss:0.673386\n",
      "[79]\tvalidation_0-logloss:0.673307\n",
      "[80]\tvalidation_0-logloss:0.673241\n",
      "[81]\tvalidation_0-logloss:0.67318\n",
      "[82]\tvalidation_0-logloss:0.673075\n",
      "[83]\tvalidation_0-logloss:0.673009\n",
      "[84]\tvalidation_0-logloss:0.672947\n",
      "[85]\tvalidation_0-logloss:0.672899\n",
      "[86]\tvalidation_0-logloss:0.672865\n",
      "[87]\tvalidation_0-logloss:0.672778\n",
      "[88]\tvalidation_0-logloss:0.672728\n",
      "[89]\tvalidation_0-logloss:0.672681\n",
      "[90]\tvalidation_0-logloss:0.672637\n",
      "[91]\tvalidation_0-logloss:0.672596\n",
      "[92]\tvalidation_0-logloss:0.672559\n",
      "[93]\tvalidation_0-logloss:0.672491\n",
      "[94]\tvalidation_0-logloss:0.672461\n",
      "[95]\tvalidation_0-logloss:0.672433\n",
      "[96]\tvalidation_0-logloss:0.672419\n",
      "[97]\tvalidation_0-logloss:0.672396\n",
      "[98]\tvalidation_0-logloss:0.672344\n",
      "[99]\tvalidation_0-logloss:0.672332\n",
      "[100]\tvalidation_0-logloss:0.672318\n",
      "[101]\tvalidation_0-logloss:0.672298\n",
      "[102]\tvalidation_0-logloss:0.672262\n",
      "[103]\tvalidation_0-logloss:0.67225\n",
      "[104]\tvalidation_0-logloss:0.672254\n",
      "[105]\tvalidation_0-logloss:0.672255\n",
      "[106]\tvalidation_0-logloss:0.67227\n",
      "[107]\tvalidation_0-logloss:0.672243\n",
      "[108]\tvalidation_0-logloss:0.672258\n",
      "[109]\tvalidation_0-logloss:0.672282\n",
      "[110]\tvalidation_0-logloss:0.672287\n",
      "[111]\tvalidation_0-logloss:0.672304\n",
      "[112]\tvalidation_0-logloss:0.672304\n",
      "[113]\tvalidation_0-logloss:0.672317\n",
      "[114]\tvalidation_0-logloss:0.672349\n",
      "[115]\tvalidation_0-logloss:0.672377\n",
      "[116]\tvalidation_0-logloss:0.672374\n",
      "[117]\tvalidation_0-logloss:0.67241\n",
      "[118]\tvalidation_0-logloss:0.672445\n",
      "[119]\tvalidation_0-logloss:0.672481\n",
      "[120]\tvalidation_0-logloss:0.672521\n",
      "[121]\tvalidation_0-logloss:0.672565\n",
      "[122]\tvalidation_0-logloss:0.672584\n",
      "[123]\tvalidation_0-logloss:0.672641\n",
      "[124]\tvalidation_0-logloss:0.672684\n",
      "[125]\tvalidation_0-logloss:0.67271\n",
      "[126]\tvalidation_0-logloss:0.672765\n",
      "[127]\tvalidation_0-logloss:0.672815\n",
      "[128]\tvalidation_0-logloss:0.672874\n",
      "[129]\tvalidation_0-logloss:0.672928\n",
      "[130]\tvalidation_0-logloss:0.672986\n",
      "[131]\tvalidation_0-logloss:0.673032\n",
      "[132]\tvalidation_0-logloss:0.673111\n",
      "[133]\tvalidation_0-logloss:0.673182\n",
      "[134]\tvalidation_0-logloss:0.673221\n",
      "[135]\tvalidation_0-logloss:0.673289\n",
      "[136]\tvalidation_0-logloss:0.673368\n",
      "[137]\tvalidation_0-logloss:0.673413\n",
      "[138]\tvalidation_0-logloss:0.673494\n",
      "[139]\tvalidation_0-logloss:0.673579\n",
      "[140]\tvalidation_0-logloss:0.673657\n",
      "[141]\tvalidation_0-logloss:0.673748\n",
      "[142]\tvalidation_0-logloss:0.673804\n",
      "[143]\tvalidation_0-logloss:0.673845\n",
      "[144]\tvalidation_0-logloss:0.67394\n",
      "[145]\tvalidation_0-logloss:0.673986\n",
      "[146]\tvalidation_0-logloss:0.674085\n",
      "[147]\tvalidation_0-logloss:0.674136\n",
      "[148]\tvalidation_0-logloss:0.674189\n",
      "[149]\tvalidation_0-logloss:0.674304\n",
      "[150]\tvalidation_0-logloss:0.674361\n",
      "[151]\tvalidation_0-logloss:0.674422\n",
      "[152]\tvalidation_0-logloss:0.674532\n",
      "[153]\tvalidation_0-logloss:0.674597\n",
      "[154]\tvalidation_0-logloss:0.674664\n",
      "[155]\tvalidation_0-logloss:0.67478\n",
      "[156]\tvalidation_0-logloss:0.674852\n",
      "[157]\tvalidation_0-logloss:0.674926\n",
      "[158]\tvalidation_0-logloss:0.675057\n",
      "[159]\tvalidation_0-logloss:0.675126\n",
      "[160]\tvalidation_0-logloss:0.675198\n",
      "[161]\tvalidation_0-logloss:0.675325\n",
      "[162]\tvalidation_0-logloss:0.675401\n",
      "[163]\tvalidation_0-logloss:0.67548\n",
      "[164]\tvalidation_0-logloss:0.675619\n",
      "[165]\tvalidation_0-logloss:0.675701\n",
      "[166]\tvalidation_0-logloss:0.675787\n",
      "[167]\tvalidation_0-logloss:0.675933\n",
      "[168]\tvalidation_0-logloss:0.676022\n",
      "[169]\tvalidation_0-logloss:0.676114\n",
      "[170]\tvalidation_0-logloss:0.676256\n",
      "[171]\tvalidation_0-logloss:0.676352\n",
      "[172]\tvalidation_0-logloss:0.676449\n",
      "[173]\tvalidation_0-logloss:0.676596\n",
      "[174]\tvalidation_0-logloss:0.676698\n",
      "[175]\tvalidation_0-logloss:0.676802\n",
      "[176]\tvalidation_0-logloss:0.676963\n",
      "[177]\tvalidation_0-logloss:0.677071\n",
      "[178]\tvalidation_0-logloss:0.677181\n",
      "[179]\tvalidation_0-logloss:0.677337\n",
      "[180]\tvalidation_0-logloss:0.677451\n",
      "[181]\tvalidation_0-logloss:0.677567\n",
      "[182]\tvalidation_0-logloss:0.677737\n",
      "[183]\tvalidation_0-logloss:0.677857\n",
      "[184]\tvalidation_0-logloss:0.677978\n",
      "[185]\tvalidation_0-logloss:0.678144\n",
      "[186]\tvalidation_0-logloss:0.678269\n",
      "[187]\tvalidation_0-logloss:0.678422\n",
      "[188]\tvalidation_0-logloss:0.678551\n",
      "[189]\tvalidation_0-logloss:0.678681\n",
      "[190]\tvalidation_0-logloss:0.678835\n",
      "[191]\tvalidation_0-logloss:0.678969\n",
      "[192]\tvalidation_0-logloss:0.67913\n",
      "[193]\tvalidation_0-logloss:0.679267\n",
      "[194]\tvalidation_0-logloss:0.679407\n",
      "[195]\tvalidation_0-logloss:0.679568\n",
      "[196]\tvalidation_0-logloss:0.679711\n",
      "[197]\tvalidation_0-logloss:0.679879\n",
      "[198]\tvalidation_0-logloss:0.680025\n",
      "[199]\tvalidation_0-logloss:0.680173\n",
      "[200]\tvalidation_0-logloss:0.680342\n",
      "[201]\tvalidation_0-logloss:0.680493\n",
      "[202]\tvalidation_0-logloss:0.680668\n",
      "[203]\tvalidation_0-logloss:0.680822\n",
      "[204]\tvalidation_0-logloss:0.680979\n",
      "[205]\tvalidation_0-logloss:0.681146\n",
      "[206]\tvalidation_0-logloss:0.681305\n",
      "[207]\tvalidation_0-logloss:0.681487\n",
      "Stopping. Best iteration:\n",
      "[107]\tvalidation_0-logloss:0.672243\n",
      "\n"
     ]
    },
    {
     "data": {
      "text/plain": [
       "XGBClassifier(base_score=0.5, booster='gbtree', colsample_bylevel=1,\n",
       "       colsample_bytree=1, gamma=0.17908412443987298,\n",
       "       learning_rate=0.003333, max_delta_step=0, max_depth=2,\n",
       "       min_child_weight=0.264254412567948, missing=None,\n",
       "       n_estimators=10000, n_jobs=1, nthread=-1,\n",
       "       objective='binary:logistic', random_state=0,\n",
       "       reg_alpha=0.01942611502554703, reg_lambda=3.3834524892572224,\n",
       "       scale_pos_weight=1.6203111511728578, seed=None, silent=False,\n",
       "       subsample=1)"
      ]
     },
     "execution_count": 62,
     "metadata": {},
     "output_type": "execute_result"
    }
   ],
   "source": [
    "import xgboost as xgb\n",
    "params_xgd = {\n",
    "    'max_depth': 2,\n",
    "    'objective': 'binary:logistic',\n",
    "    'learning_rate': 0.003333,\n",
    "    'gamma' : 0.17908412443987298,\n",
    "    'min_child_weight' : 0.26425441256794802,\n",
    "    'scale_pos_weight': 1.6203111511728578,\n",
    "    'reg_alpha' : 0.019426115025547031,\n",
    "    'reg_lambda': 3.3834524892572224,\n",
    "    'nthread': -1,\n",
    "    'silent': False,\n",
    "    'n_estimators': 10000\n",
    "    }\n",
    "clf = xgb.XGBClassifier(**params_xgd)\n",
    "clf.fit(stack_train,train_Y, eval_set=[(stack_test,test_Y)], \n",
    "        eval_metric='logloss', early_stopping_rounds=100, verbose=True)"
   ]
  },
  {
   "cell_type": "code",
   "execution_count": 63,
   "metadata": {},
   "outputs": [
    {
     "name": "stdout",
     "output_type": "stream",
     "text": [
      "accuracy validation set:  0.593653250774\n",
      "             precision    recall  f1-score   support\n",
      "\n",
      "   negative       0.59      0.59      0.59      1281\n",
      "   positive       0.60      0.60      0.60      1303\n",
      "\n",
      "avg / total       0.59      0.59      0.59      2584\n",
      "\n"
     ]
    }
   ],
   "source": [
    "predicted = clf.predict(stack_test)\n",
    "print('accuracy validation set: ', np.mean(predicted == test_Y))\n",
    "print(metrics.classification_report(test_Y, predicted, target_names = label))"
   ]
  },
  {
   "cell_type": "code",
   "execution_count": 67,
   "metadata": {},
   "outputs": [
    {
     "data": {
      "text/plain": [
       "array([[ 0.41565824,  0.58434176],\n",
       "       [ 0.70962721,  0.29037279],\n",
       "       [ 0.27590144,  0.72409856],\n",
       "       ..., \n",
       "       [ 0.62264705,  0.37735292],\n",
       "       [ 0.27590144,  0.72409856],\n",
       "       [ 0.61838031,  0.38161966]], dtype=float32)"
      ]
     },
     "execution_count": 67,
     "metadata": {},
     "output_type": "execute_result"
    }
   ],
   "source": [
    "clf.predict_proba(stack_test)"
   ]
  },
  {
   "cell_type": "code",
   "execution_count": 64,
   "metadata": {},
   "outputs": [
    {
     "data": {
      "image/png": "[encoded data removed]",
      "text/plain": [
       "<matplotlib.figure.Figure at 0x7f596c24cb38>"
      ]
     },
     "metadata": {},
     "output_type": "display_data"
    }
   ],
   "source": [
    "plt.figure(figsize=(15,10))\n",
    "stacked = np.vstack([mod_huber.predict(test_X),bayes_multinomial.predict(test_X),gb.predict(test_X), ada.predict(test_X),np.argmax(huber_prob, axis=1), np.argmax(entropy_prob, axis=1),clf.predict(stack_test), test_Y]).T\n",
    "corr_df = pd.DataFrame(stacked, columns=['svm','bayes','gb','ada','rnn-huber','rnn-entropy','stacked','results'])\n",
    "sns.heatmap(corr_df.corr(), annot=True)\n",
    "plt.show()"
   ]
  },
  {
   "cell_type": "code",
   "execution_count": 66,
   "metadata": {},
   "outputs": [],
   "source": [
    "with open('svm-model.p', 'wb') as fopen:\n",
    "    pickle.dump(mod_huber, fopen)\n",
    "with open('bayes-model.p', 'wb') as fopen:\n",
    "    pickle.dump(bayes_multinomial, fopen)\n",
    "with open('gb-model.p', 'wb') as fopen:\n",
    "    pickle.dump(gb, fopen)\n",
    "with open('ada-model.p', 'wb') as fopen:\n",
    "    pickle.dump(ada, fopen)\n",
    "with open('stack-model.p', 'wb') as fopen:\n",
    "    pickle.dump(clf, fopen)\n",
    "with open('tfidf.p', 'wb') as fopen:\n",
    "    pickle.dump(tfidf, fopen)"
   ]
  },
  {
   "cell_type": "code",
   "execution_count": null,
   "metadata": {},
   "outputs": [],
   "source": []
  }
 ],
 "metadata": {
  "kernelspec": {
   "display_name": "Python 3",
   "language": "python",
   "name": "python3"
  },
  "language_info": {
   "codemirror_mode": {
    "name": "ipython",
    "version": 3
   },
   "file_extension": ".py",
   "mimetype": "text/x-python",
   "name": "python",
   "nbconvert_exporter": "python",
   "pygments_lexer": "ipython3",
   "version": "3.5.2"
  }
 },
 "nbformat": 4,
 "nbformat_minor": 2
}
